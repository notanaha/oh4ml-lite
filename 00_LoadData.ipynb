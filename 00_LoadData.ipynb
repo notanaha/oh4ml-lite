{
 "cells": [
  {
   "cell_type": "code",
   "execution_count": null,
   "id": "f9c3cc96",
   "metadata": {},
   "outputs": [],
   "source": [
    "from zipfile import ZipFile\n",
    "import requests\n",
    "import pandas as pd\n",
    "import numpy as np\n",
    "import matplotlib.pyplot as plt\n",
    "import json\n",
    "\n",
    "from azureml.core import Workspace\n",
    "from azureml.core import Experiment\n",
    "from azureml.core import Workspace, Datastore, Dataset\n",
    "\n",
    "ws = Workspace.from_config()"
   ]
  },
  {
   "cell_type": "markdown",
   "id": "13b25b3c",
   "metadata": {},
   "source": [
    "### Download Data"
   ]
  },
  {
   "cell_type": "code",
   "execution_count": null,
   "id": "e5ab3a8c",
   "metadata": {},
   "outputs": [],
   "source": [
    "os.makedirs('./data', exist_ok=True)\n",
    "\n",
    "url = 'https://github.com/asherif844/MLOps/raw/master/data/AdventureWorks-oltp-install-script.zip'\n",
    "zip_data = requests.get(url)\n",
    "\n",
    "with open('./data/adventureworks.zip', 'wb') as f:\n",
    "    f.write(zip_data.content)\n",
    "\n",
    "with ZipFile('./data/adventureworks.zip', 'r') as fzip:\n",
    "    fzip.extractall('./data/csv_data')"
   ]
  },
  {
   "cell_type": "markdown",
   "id": "f62ef879",
   "metadata": {},
   "source": [
    "### Transform Data"
   ]
  },
  {
   "cell_type": "code",
   "execution_count": null,
   "id": "e76b821c",
   "metadata": {},
   "outputs": [],
   "source": [
    "header = ['TransactionID', 'ProductID', 'ReferenceOrderID', 'ReferenceOrderLineID', 'TransactionDate', 'TransactionType', 'Quantity', 'ActualCost', 'ModifiedDate']\n",
    "\n",
    "trans_hist_df = pd.read_csv('./data/csv_data/TransactionHistory.csv', sep='\\t', names=header)\n",
    "\n",
    "trans_hist_df['PaidAmount'] = trans_hist_df['Quantity'] * trans_hist_df['ActualCost']\n",
    "trans_hist_df['TransactionDate'] = pd.to_datetime(trans_hist_df['TransactionDate'])\n",
    "df = trans_hist_df[['TransactionDate', 'PaidAmount']]\n",
    "df.set_index('TransactionDate',inplace=True)\n",
    "\n",
    "df = df.resample('D').mean().interpolate()\n",
    "df = df['2013-07':'2014-05']\n",
    "df1 = df['2013']\n",
    "df2 = df['2014']\n",
    "\n",
    "df.to_csv('./data/mlops_forecast_data.csv', index=True, header=True)\n",
    "df1.to_csv('./data/mlops_forecast_data2013.csv', index=True, header=True)\n",
    "df2.to_csv('./data/mlops_forecast_data2014.csv', index=True, header=True)"
   ]
  },
  {
   "cell_type": "markdown",
   "id": "6c5daabd",
   "metadata": {},
   "source": [
    "### Upload data"
   ]
  },
  {
   "cell_type": "code",
   "execution_count": null,
   "id": "a3a30aed",
   "metadata": {},
   "outputs": [],
   "source": [
    "#datastore = Datastore(ws, 'demostore')\n",
    "datastore = ws.get_default_datastore()\n",
    "\n",
    "datastore.upload_files(files = ['./data/mlops_forecast_data.csv'], target_path = 'mlops_timeseries/', overwrite = True,show_progress = True)\n",
    "datastore.upload_files(files = ['./data/mlops_forecast_data2013.csv'], target_path = 'mlops_timeseries/', overwrite = True,show_progress = True)\n",
    "datastore.upload_files(files = ['./data/mlops_forecast_data2014.csv'], target_path = 'mlops_timeseries/', overwrite = True,show_progress = True)\n",
    "\n",
    "dataset = Dataset.Tabular.from_delimited_files(path=datastore.path('mlops_timeseries/mlops_forecast_data.csv'))\n",
    "dataset1 = Dataset.Tabular.from_delimited_files(path=datastore.path('mlops_timeseries/mlops_forecast_data2013.csv'))\n",
    "dataset2 = Dataset.Tabular.from_delimited_files(path=datastore.path('mlops_timeseries/mlops_forecast_data2014.csv'))\n"
   ]
  },
  {
   "cell_type": "markdown",
   "id": "642bb80c",
   "metadata": {},
   "source": [
    "### Register dataset"
   ]
  },
  {
   "cell_type": "code",
   "execution_count": null,
   "id": "990ec2d5",
   "metadata": {},
   "outputs": [],
   "source": [
    "dataset.register(workspace = ws, name = 'transaction_ts', description='time series dataset for mlops', create_new_version=True)\n",
    "dataset1.register(workspace = ws, name = 'transaction_ts2013', description='2013 time series dataset for mlops', create_new_version=True)\n",
    "dataset2.register(workspace = ws, name = 'transaction_ts2014', description='2014 time series dataset for mlops', create_new_version=True)"
   ]
  }
 ],
 "metadata": {
  "kernelspec": {
   "display_name": "Python 3.6 - AzureML",
   "language": "python",
   "name": "python3-azureml"
  },
  "language_info": {
   "codemirror_mode": {
    "name": "ipython",
    "version": 3
   },
   "file_extension": ".py",
   "mimetype": "text/x-python",
   "name": "python",
   "nbconvert_exporter": "python",
   "pygments_lexer": "ipython3",
   "version": "3.6.9"
  }
 },
 "nbformat": 4,
 "nbformat_minor": 5
}
