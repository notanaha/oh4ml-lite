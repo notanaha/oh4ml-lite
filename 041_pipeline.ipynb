{
 "cells": [
  {
   "cell_type": "code",
   "execution_count": null,
   "id": "1321837c",
   "metadata": {},
   "outputs": [],
   "source": [
    "from azureml.core import Workspace, Experiment, Environment, ScriptRunConfig, Dataset\n",
    "from azureml.core.runconfig import RunConfiguration\n",
    "from azureml.core.conda_dependencies import CondaDependencies\n",
    "from azureml.pipeline.core import Pipeline, PipelineParameter\n",
    "from azureml.data.datapath import DataPath, DataPathComputeBinding\n",
    "from azureml.data import OutputFileDatasetConfig\n",
    "from azureml.pipeline.steps import PythonScriptStep\n",
    "from azureml.widgets import RunDetails\n",
    "from azureml.core.datastore import Datastore\n",
    "\n",
    "workspace = Workspace.from_config()"
   ]
  },
  {
   "cell_type": "code",
   "execution_count": null,
   "id": "3851cf48",
   "metadata": {},
   "outputs": [],
   "source": [
    "#datastore = Datastore(workspace, \"demostore\")\n",
    "datastore = workspace.get_default_datastore()\n",
    "\n",
    "#input_data = Dataset.File.from_files(datastore.path('mlops_timeseries/mlops_forecast_data2013.csv')).as_named_input('input_ds').as_mount()\n",
    "inout = OutputFileDatasetConfig(destination=(datastore, 'inout/'))"
   ]
  },
  {
   "cell_type": "code",
   "execution_count": null,
   "id": "bfd4f767",
   "metadata": {},
   "outputs": [],
   "source": [
    "aml_compute = 'demo-cpucluster1'  # <== Compute Cluster Name \n",
    "source_directory = 'scripts'"
   ]
  },
  {
   "cell_type": "code",
   "execution_count": null,
   "id": "7bff140c",
   "metadata": {},
   "outputs": [],
   "source": [
    "run_config_1 = RunConfiguration()\n",
    "run_config_1.target = aml_compute\n",
    "run_config_1.environment.python.conda_dependencies = CondaDependencies(conda_dependencies_file_path='arima-env.yml')"
   ]
  },
  {
   "cell_type": "code",
   "execution_count": null,
   "id": "a6416255",
   "metadata": {},
   "outputs": [],
   "source": [
    "run_config_2 = RunConfiguration()\n",
    "run_config_2.target = aml_compute\n",
    "run_config_2.environment.python.conda_dependencies = CondaDependencies(conda_dependencies_file_path='deploy-env.yml')"
   ]
  },
  {
   "cell_type": "markdown",
   "id": "2c88bb5a",
   "metadata": {},
   "source": [
    "### [PipelineParameter Class](https://docs.microsoft.com/ja-jp/python/api/azureml-pipeline-core/azureml.pipeline.core.graph.pipelineparameter?view=azure-ml-py)"
   ]
  },
  {
   "cell_type": "code",
   "execution_count": null,
   "id": "77d0a57a",
   "metadata": {},
   "outputs": [],
   "source": [
    "# A param named \"model_name_arg\" was added\n",
    "pipeline_model_name = PipelineParameter(name=\"model_name_arg\", default_value=\"arima-model\") \n",
    "\n",
    "datapath = DataPath(datastore=datastore, path_on_datastore='mlops_timeseries/mlops_forecast_data.csv')\n",
    "pipeline_input_name = (PipelineParameter(name=\"input_data_arg\", default_value=datapath),\n",
    "                           DataPathComputeBinding(mode='mount'))"
   ]
  },
  {
   "cell_type": "code",
   "execution_count": null,
   "id": "49a33112",
   "metadata": {},
   "outputs": [],
   "source": [
    "train = PythonScriptStep(name='train',\n",
    "                         script_name='train.py', \n",
    "                         source_directory=source_directory,\n",
    "                         arguments =[\n",
    "                             '--model_name', pipeline_model_name, \n",
    "                             '--input', pipeline_input_name, \n",
    "                             '--output', inout],\n",
    "                         inputs=[pipeline_input_name],\n",
    "                         runconfig=run_config_1,\n",
    "                         allow_reuse=False)"
   ]
  },
  {
   "cell_type": "code",
   "execution_count": null,
   "id": "d031f26d",
   "metadata": {},
   "outputs": [],
   "source": [
    "register = PythonScriptStep(name='register',\n",
    "                         script_name='register.py', \n",
    "                         source_directory=source_directory,\n",
    "                         arguments =['--input', inout.as_input(name='inout')],\n",
    "                         runconfig=run_config_2,\n",
    "                         allow_reuse=False)"
   ]
  },
  {
   "cell_type": "code",
   "execution_count": null,
   "id": "0a27faa3",
   "metadata": {},
   "outputs": [],
   "source": [
    "deploy = PythonScriptStep(name='deploy',\n",
    "                         script_name='deploy.py', \n",
    "                         source_directory=source_directory,\n",
    "                         arguments =['--input', inout.as_input(name='inout')],\n",
    "                         runconfig=run_config_2,\n",
    "                         allow_reuse=False)"
   ]
  },
  {
   "cell_type": "code",
   "execution_count": null,
   "id": "6f6135a2",
   "metadata": {},
   "outputs": [],
   "source": [
    "deploy.run_after(register)"
   ]
  },
  {
   "cell_type": "code",
   "execution_count": null,
   "id": "aa51b1e6",
   "metadata": {},
   "outputs": [],
   "source": [
    "pipeline_deploy = Pipeline(workspace=workspace, steps=[train, register, deploy], description='Pipeline Arima v4')"
   ]
  },
  {
   "cell_type": "code",
   "execution_count": null,
   "id": "6c200884",
   "metadata": {},
   "outputs": [],
   "source": [
    "pipeline_deploy.validate()"
   ]
  },
  {
   "cell_type": "code",
   "execution_count": null,
   "id": "b2295213",
   "metadata": {},
   "outputs": [],
   "source": [
    "model_name = \"arima-model-v4\"\n",
    "data_path_name = DataPath(datastore=datastore, path_on_datastore='mlops_timeseries/mlops_forecast_data2013.csv')\n",
    "\n",
    "pipeline_run = Experiment(workspace, 'pipeline_run_v4').submit(pipeline_deploy,                                       \\\n",
    "                                                               pipeline_parameters={\"model_name_arg\": model_name,     \\\n",
    "                                                                                    \"input_data_arg\" : data_path_name \\\n",
    "                                                                                   },                                 \\\n",
    "                                                               regenerate_outputs=True)"
   ]
  },
  {
   "cell_type": "code",
   "execution_count": null,
   "id": "717c9c49",
   "metadata": {},
   "outputs": [],
   "source": [
    "RunDetails(pipeline_run).show()"
   ]
  },
  {
   "cell_type": "code",
   "execution_count": null,
   "id": "d84847c7",
   "metadata": {},
   "outputs": [],
   "source": [
    "%%time\n",
    "pipeline_run.wait_for_completion(show_output=True)"
   ]
  },
  {
   "cell_type": "markdown",
   "id": "84f83c54",
   "metadata": {},
   "source": [
    "## Publish Pipeline"
   ]
  },
  {
   "cell_type": "code",
   "execution_count": null,
   "id": "26e9aa3f",
   "metadata": {},
   "outputs": [],
   "source": [
    "from azureml.pipeline.core import PublishedPipeline\n",
    "from azureml.core.authentication import InteractiveLoginAuthentication\n",
    "import requests"
   ]
  },
  {
   "cell_type": "code",
   "execution_count": null,
   "id": "a0b52741",
   "metadata": {},
   "outputs": [],
   "source": [
    "published_pipeline_deploy = pipeline_deploy.publish(name=\"Pipeline_Arima_Published\", description=\"Pipeline Arima Published\", continue_on_step_failure=True)\n",
    "published_pipeline_deploy"
   ]
  },
  {
   "cell_type": "code",
   "execution_count": null,
   "id": "4b949f05",
   "metadata": {},
   "outputs": [],
   "source": [
    "pipeline_id = published_pipeline_deploy.id  # set pipeline id\n",
    "print(pipeline_id)\n",
    "published_pipeline = PublishedPipeline.get(workspace, pipeline_id) # retrieve pipeline object with the id\n",
    "endpoint1 = published_pipeline.endpoint\n",
    "print(endpoint1)"
   ]
  },
  {
   "cell_type": "code",
   "execution_count": null,
   "id": "c0256fe0",
   "metadata": {},
   "outputs": [],
   "source": [
    "auth = InteractiveLoginAuthentication()\n",
    "aad_token = auth.get_authentication_header()\n",
    "\n",
    "response = requests.post(endpoint1, \n",
    "                         headers=aad_token, \n",
    "                         json={\"ExperimentName\": \"Pipeline_call_arima_v5\",\n",
    "                               \"RunSource\": \"SDK\",\n",
    "                               \"DataPathAssignments\": {\"input_data_arg\": {\"DataStoreName\": \"workspaceblobstore\",\"RelativePath\": \"mlops_timeseries/mlops_forecast_data2013.csv\"}},\n",
    "                               \"ParameterAssignments\": {\"model_name_arg\": \"arima-model-v5\"}})"
   ]
  },
  {
   "cell_type": "code",
   "execution_count": null,
   "id": "145451d3",
   "metadata": {},
   "outputs": [],
   "source": [
    "try:\n",
    "    response.raise_for_status()\n",
    "except Exception:    \n",
    "    raise Exception('Received bad response from the endpoint: {}\\n'\n",
    "                    'Response Code: {}\\n'\n",
    "                    'Headers: {}\\n'\n",
    "                    'Content: {}'.format(rest_endpoint, response.status_code, response.headers, response.content))\n",
    "\n",
    "run_id = response.json().get('Id')\n",
    "print('Submitted pipeline run: ', run_id)"
   ]
  },
  {
   "cell_type": "code",
   "execution_count": null,
   "id": "e91ccc38",
   "metadata": {},
   "outputs": [],
   "source": [
    "#response.json()"
   ]
  }
 ],
 "metadata": {
  "kernelspec": {
   "display_name": "Python 3.8 - AzureML",
   "language": "python",
   "name": "python38-azureml"
  },
  "language_info": {
   "codemirror_mode": {
    "name": "ipython",
    "version": 3
   },
   "file_extension": ".py",
   "mimetype": "text/x-python",
   "name": "python",
   "nbconvert_exporter": "python",
   "pygments_lexer": "ipython3",
   "version": "3.8.5"
  }
 },
 "nbformat": 4,
 "nbformat_minor": 5
}
