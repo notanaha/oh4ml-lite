{
 "cells": [
  {
   "cell_type": "code",
   "execution_count": null,
   "id": "1321837c",
   "metadata": {},
   "outputs": [],
   "source": [
    "from azureml.core import Workspace, Experiment, Environment, ScriptRunConfig, Dataset\n",
    "from azureml.core.runconfig import RunConfiguration\n",
    "from azureml.core.conda_dependencies import CondaDependencies\n",
    "from azureml.pipeline.core import Pipeline, PipelineParameter\n",
    "from azureml.data import OutputFileDatasetConfig\n",
    "from azureml.pipeline.steps import PythonScriptStep\n",
    "from azureml.widgets import RunDetails\n",
    "from azureml.core.datastore import Datastore\n",
    "\n",
    "workspace = Workspace.from_config()"
   ]
  },
  {
   "cell_type": "code",
   "execution_count": null,
   "id": "3851cf48",
   "metadata": {},
   "outputs": [],
   "source": [
    "#datastore = Datastore(workspace, \"demostore\")\n",
    "datastore = workspace.get_default_datastore()\n",
    "\n",
    "input_data = Dataset.File.from_files(datastore.path('mlops_timeseries/mlops_forecast_data2013.csv')).as_named_input('input_ds').as_mount()\n",
    "inout = OutputFileDatasetConfig(destination=(datastore, 'inout/'))"
   ]
  },
  {
   "cell_type": "code",
   "execution_count": null,
   "id": "bfd4f767",
   "metadata": {},
   "outputs": [],
   "source": [
    "aml_compute = 'demo-cpucluster1'  # <== Compute Cluster Name \n",
    "source_directory = 'scripts'\n",
    "model_name = \"arima-model-v3\""
   ]
  },
  {
   "cell_type": "code",
   "execution_count": null,
   "id": "7bff140c",
   "metadata": {},
   "outputs": [],
   "source": [
    "run_config_step1 = RunConfiguration()\n",
    "run_config_step1.target = aml_compute\n",
    "run_config_step1.environment.python.conda_dependencies = CondaDependencies(conda_dependencies_file_path='arima-env.yml')"
   ]
  },
  {
   "cell_type": "code",
   "execution_count": null,
   "id": "8427e387",
   "metadata": {},
   "outputs": [],
   "source": [
    "run_config_step2 = RunConfiguration()\n",
    "run_config_step2.target = aml_compute\n",
    "run_config_step2.environment.python.conda_dependencies = CondaDependencies(conda_dependencies_file_path='deploy-env.yml')"
   ]
  },
  {
   "cell_type": "code",
   "execution_count": null,
   "id": "49a33112",
   "metadata": {},
   "outputs": [],
   "source": [
    "step1 = PythonScriptStep(name='train',\n",
    "                         script_name='train.py', \n",
    "                         source_directory=source_directory,\n",
    "                         arguments =[\n",
    "                                     '--model_name', model_name, \n",
    "                                     '--input', input_data, \n",
    "                                     '--output', inout],\n",
    "                         runconfig=run_config_step1,\n",
    "                         allow_reuse=False)"
   ]
  },
  {
   "cell_type": "code",
   "execution_count": null,
   "id": "d031f26d",
   "metadata": {},
   "outputs": [],
   "source": [
    "step2 = PythonScriptStep(name='registerAndDeploy',\n",
    "                         script_name='registerAndDeploy.py', \n",
    "                         source_directory=source_directory,\n",
    "                         arguments =['--input', inout.as_input(name='inout')],\n",
    "                         runconfig=run_config_step2,\n",
    "                         allow_reuse=False)"
   ]
  },
  {
   "cell_type": "code",
   "execution_count": null,
   "id": "aa51b1e6",
   "metadata": {},
   "outputs": [],
   "source": [
    "pipeline_deploy = Pipeline(workspace=workspace, steps=[step1, step2], description='Pipeline Arima v3')"
   ]
  },
  {
   "cell_type": "code",
   "execution_count": null,
   "id": "6c200884",
   "metadata": {},
   "outputs": [],
   "source": [
    "pipeline_deploy.validate()"
   ]
  },
  {
   "cell_type": "code",
   "execution_count": null,
   "id": "b2295213",
   "metadata": {},
   "outputs": [],
   "source": [
    "pipeline_run = Experiment(workspace, 'pipeline_deploy_v3').submit(pipeline_deploy, regenerate_outputs=True)"
   ]
  },
  {
   "cell_type": "code",
   "execution_count": null,
   "id": "717c9c49",
   "metadata": {},
   "outputs": [],
   "source": [
    "RunDetails(pipeline_run).show()"
   ]
  },
  {
   "cell_type": "code",
   "execution_count": null,
   "id": "d84847c7",
   "metadata": {},
   "outputs": [],
   "source": [
    "%%time\n",
    "pipeline_run.wait_for_completion(show_output=True)"
   ]
  },
  {
   "cell_type": "markdown",
   "id": "84f83c54",
   "metadata": {},
   "source": [
    "## Publish Pipeline"
   ]
  },
  {
   "cell_type": "code",
   "execution_count": null,
   "id": "26e9aa3f",
   "metadata": {},
   "outputs": [],
   "source": [
    "from azureml.pipeline.core import PublishedPipeline\n",
    "from azureml.core.authentication import InteractiveLoginAuthentication\n",
    "import requests"
   ]
  },
  {
   "cell_type": "code",
   "execution_count": null,
   "id": "a0b52741",
   "metadata": {},
   "outputs": [],
   "source": [
    "published_pipeline_deploy = pipeline_deploy.publish(name=\"Pipeline_arima_v3\", description=\"Pipeline arima v3\", continue_on_step_failure=True)\n",
    "published_pipeline_deploy"
   ]
  },
  {
   "cell_type": "code",
   "execution_count": null,
   "id": "4b949f05",
   "metadata": {},
   "outputs": [],
   "source": [
    "pipeline_id = published_pipeline_deploy.id  # set pipeline id\n",
    "print(pipeline_id)\n",
    "published_pipeline = PublishedPipeline.get(workspace, pipeline_id) # retrieve pipeline object with the id\n",
    "endpoint1 = published_pipeline.endpoint\n",
    "print(endpoint1)"
   ]
  },
  {
   "cell_type": "code",
   "execution_count": null,
   "id": "c0256fe0",
   "metadata": {},
   "outputs": [],
   "source": [
    "auth = InteractiveLoginAuthentication()\n",
    "aad_token = auth.get_authentication_header()\n",
    "\n",
    "response = requests.post(endpoint1, \n",
    "                         headers=aad_token, \n",
    "                         json={\"ExperimentName\": \"Pipeline_call_arima_v3\",\n",
    "                               \"RunSource\": \"SDK\"})"
   ]
  },
  {
   "cell_type": "code",
   "execution_count": null,
   "id": "145451d3",
   "metadata": {},
   "outputs": [],
   "source": [
    "try:\n",
    "    response.raise_for_status()\n",
    "except Exception:    \n",
    "    raise Exception('Received bad response from the endpoint: {}\\n'\n",
    "                    'Response Code: {}\\n'\n",
    "                    'Headers: {}\\n'\n",
    "                    'Content: {}'.format(rest_endpoint, response.status_code, response.headers, response.content))\n",
    "\n",
    "run_id = response.json().get('Id')\n",
    "print('Submitted pipeline run: ', run_id)"
   ]
  },
  {
   "cell_type": "code",
   "execution_count": null,
   "id": "e91ccc38",
   "metadata": {},
   "outputs": [],
   "source": [
    "#response.json()"
   ]
  }
 ],
 "metadata": {
  "kernelspec": {
   "display_name": "Python 3.8 - AzureML",
   "language": "python",
   "name": "python38-azureml"
  },
  "language_info": {
   "codemirror_mode": {
    "name": "ipython",
    "version": 3
   },
   "file_extension": ".py",
   "mimetype": "text/x-python",
   "name": "python",
   "nbconvert_exporter": "python",
   "pygments_lexer": "ipython3",
   "version": "3.8.5"
  }
 },
 "nbformat": 4,
 "nbformat_minor": 5
}
