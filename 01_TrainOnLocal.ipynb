{
 "cells": [
  {
   "cell_type": "code",
   "execution_count": null,
   "id": "396d1069",
   "metadata": {},
   "outputs": [],
   "source": [
    "!pip install statsmodels==0.12.2"
   ]
  },
  {
   "cell_type": "code",
   "execution_count": null,
   "id": "c0e81076",
   "metadata": {},
   "outputs": [],
   "source": [
    "import os\n",
    "\n",
    "import pandas as pd\n",
    "import numpy as np\n",
    "import matplotlib.pyplot as plt\n",
    "import seaborn as sns\n",
    "import json\n",
    "import joblib\n",
    "\n",
    "from pandas import Grouper\n",
    "from statsmodels.graphics.tsaplots import plot_acf\n",
    "from statsmodels.graphics.tsaplots import plot_pacf\n",
    "from sklearn.metrics import mean_squared_error\n",
    "from sklearn.metrics import r2_score\n",
    "from statsmodels.tsa.stattools import adfuller\n",
    "from statsmodels.tsa.arima_model import ARIMA\n",
    "\n",
    "from azureml.core import Workspace, Experiment, Dataset\n",
    "ws = Workspace.from_config()"
   ]
  },
  {
   "cell_type": "code",
   "execution_count": null,
   "id": "4c1ac9bc",
   "metadata": {},
   "outputs": [],
   "source": [
    "dataset1 = Dataset.get_by_name(workspace=ws, name='transaction_ts2013')\n",
    "df = dataset1.to_pandas_dataframe()\n",
    "\n",
    "df.set_index('TransactionDate',inplace=True)\n",
    "df.columns = ['PaidAmount']\n",
    "series = pd.Series(df['PaidAmount'])\n",
    "\n",
    "def mean_and_variance(X):\n",
    "    split = int(len(X) / 2)\n",
    "    X1, X2 = X[0:split], X[split:]\n",
    "    mean1, mean2 = X1.mean(), X2.mean()\n",
    "    var1, var2 = X1.var(), X2.var()\n",
    "    print('mean1=%f, mean2=%f' % (mean1, mean2))\n",
    "    print('variance1=%f, variance2=%f' % (var1, var2))\n",
    "    \n",
    "mean_and_variance(series.values)\n",
    "\n",
    "def fuller_test(X):\n",
    "    result = adfuller(X)\n",
    "    print('ADF Statistic: %f' % result[0])\n",
    "    print('p-value: %f' % result[1])\n",
    "    print('Critical Values:')\n",
    "    for key, value in result[4].items():\n",
    "    \tprint('\\t%s: %.3f' % (key, value))\n",
    "        \n",
    "fuller_test(series.values)"
   ]
  },
  {
   "cell_type": "code",
   "execution_count": null,
   "id": "96924040",
   "metadata": {},
   "outputs": [],
   "source": [
    "#plot_acf(series)\n",
    "#plot_pacf(series)\n",
    "X = series.values\n",
    "size = int(len(X) * 0.9)\n",
    "train, test = X[0:size], X[size:len(X)]"
   ]
  },
  {
   "cell_type": "code",
   "execution_count": null,
   "id": "198e9a13",
   "metadata": {},
   "outputs": [],
   "source": [
    "model = ARIMA(train, order=(2,0,2))\n",
    "model_fit = model.fit(disp=0) \n",
    "print(model_fit.summary())"
   ]
  },
  {
   "cell_type": "code",
   "execution_count": null,
   "id": "cf39d47d",
   "metadata": {},
   "outputs": [],
   "source": [
    "residuals = pd.DataFrame(model_fit.resid)\n",
    "residuals.plot(title=\"Residuals Error Plot\")\n",
    "plt.show()"
   ]
  },
  {
   "cell_type": "code",
   "execution_count": null,
   "id": "651af478",
   "metadata": {},
   "outputs": [],
   "source": [
    "predictions=model_fit.forecast(steps=test.size)[0] \n",
    "\n",
    "mse = mean_squared_error(test, predictions)\n",
    "rmse = np.sqrt(mse)\n",
    "r2 = r2_score(test,predictions)\n",
    "print('Test RMSE: %.3f' % rmse)\n",
    "print('Test R2: %.3f' % r2)\n",
    "\n",
    "# plot\n",
    "plt.plot(test)\n",
    "plt.plot(predictions, color='red')\n",
    "plt.title(\"Test Data Vs. Predictions\")\n",
    "plt.show()"
   ]
  }
 ],
 "metadata": {
  "kernelspec": {
   "display_name": "Python 3.6 - AzureML",
   "language": "python",
   "name": "python3-azureml"
  },
  "language_info": {
   "codemirror_mode": {
    "name": "ipython",
    "version": 3
   },
   "file_extension": ".py",
   "mimetype": "text/x-python",
   "name": "python",
   "nbconvert_exporter": "python",
   "pygments_lexer": "ipython3",
   "version": "3.6.9"
  }
 },
 "nbformat": 4,
 "nbformat_minor": 5
}
