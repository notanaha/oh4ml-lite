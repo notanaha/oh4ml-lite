{
 "cells": [
  {
   "cell_type": "code",
   "execution_count": null,
   "id": "ee44811c",
   "metadata": {},
   "outputs": [],
   "source": [
    "from azureml.core import Workspace, Experiment, Dataset, Datastore, ScriptRunConfig, Environment\n",
    "from azureml.core.compute import ComputeTarget\n",
    "from azureml.core.compute_target import ComputeTargetException\n",
    "from azureml.core.conda_dependencies import CondaDependencies\n",
    "from azureml.core.runconfig import DockerConfiguration\n",
    "\n",
    "workspace = Workspace.from_config()"
   ]
  },
  {
   "cell_type": "code",
   "execution_count": null,
   "id": "d0ebe10b",
   "metadata": {},
   "outputs": [],
   "source": [
    "myenv = Environment.from_conda_specification(name=\"arima-env\", file_path=\"arima-env.yml\")\n",
    "docker_config = DockerConfiguration(use_docker=True)\n",
    "\n",
    "aml_compute = 'demo-cpucluster1'  # <== Compute Cluster Name\n",
    "source_directory = './scripts'\n",
    "#script='transactions_arima.py'\n",
    "script='trainAndRegisterModel.py'"
   ]
  },
  {
   "cell_type": "code",
   "execution_count": null,
   "id": "0ddfa598",
   "metadata": {},
   "outputs": [],
   "source": [
    "src = ScriptRunConfig(source_directory=source_directory,\n",
    "                      script=script,\n",
    "                      compute_target=aml_compute,\n",
    "                      environment=myenv,\n",
    "                      docker_runtime_config=docker_config)"
   ]
  },
  {
   "cell_type": "code",
   "execution_count": null,
   "id": "8227c2fa",
   "metadata": {},
   "outputs": [],
   "source": [
    "experiment_name = \"arima-mlops-remote\"\n",
    "experiment = Experiment(workspace = workspace, name = experiment_name)\n",
    "\n",
    "run = experiment.submit(config=src)\n",
    "run"
   ]
  },
  {
   "cell_type": "code",
   "execution_count": null,
   "id": "f40397f3",
   "metadata": {},
   "outputs": [],
   "source": [
    "run.wait_for_completion(show_output=True, wait_post_processing=True)"
   ]
  }
 ],
 "metadata": {
  "kernelspec": {
   "display_name": "Python 3.6 - AzureML",
   "language": "python",
   "name": "python3-azureml"
  },
  "language_info": {
   "codemirror_mode": {
    "name": "ipython",
    "version": 3
   },
   "file_extension": ".py",
   "mimetype": "text/x-python",
   "name": "python",
   "nbconvert_exporter": "python",
   "pygments_lexer": "ipython3",
   "version": "3.6.9"
  }
 },
 "nbformat": 4,
 "nbformat_minor": 5
}
