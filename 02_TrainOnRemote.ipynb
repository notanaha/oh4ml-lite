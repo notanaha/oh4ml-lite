{
 "cells": [
  {
   "cell_type": "code",
   "execution_count": null,
   "id": "ee44811c",
   "metadata": {},
   "outputs": [],
   "source": [
    "import os, json\n",
    "from azureml.core import Workspace, Experiment, Dataset, Datastore, ScriptRunConfig, Environment\n",
    "from azureml.core.compute import ComputeTarget\n",
    "from azureml.core.compute_target import ComputeTargetException\n",
    "from azureml.core.conda_dependencies import CondaDependencies\n",
    "from azureml.core.runconfig import DockerConfiguration\n",
    "\n",
    "workspace = Workspace.from_config()"
   ]
  },
  {
   "cell_type": "code",
   "execution_count": null,
   "id": "2aafc812",
   "metadata": {},
   "outputs": [],
   "source": [
    "#datastore = Datastore(workspace, \"demostore\")\n",
    "datastore = workspace.get_default_datastore()\n",
    "input_data = Dataset.File.from_files(datastore.path('mlops_timeseries/mlops_forecast_data2013.csv')).as_named_input('input_ds').as_mount()\n"
   ]
  },
  {
   "cell_type": "code",
   "execution_count": null,
   "id": "d0ebe10b",
   "metadata": {},
   "outputs": [],
   "source": [
    "myenv = Environment.from_conda_specification(name=\"arima-env\", file_path=\"arima-env.yml\")\n",
    "docker_config = DockerConfiguration(use_docker=True)\n",
    "\n",
    "aml_compute = 'demo-cpucluster1'  # <== Compute Cluster Name\n",
    "source_directory = './scripts'\n",
    "script='train.py'"
   ]
  },
  {
   "cell_type": "code",
   "execution_count": null,
   "id": "b73f6359",
   "metadata": {},
   "outputs": [],
   "source": [
    "model_name = 'arima-model-v3'\n",
    "experiment_name = 'arima-mlops-remote-v3'"
   ]
  },
  {
   "cell_type": "code",
   "execution_count": null,
   "id": "0ddfa598",
   "metadata": {},
   "outputs": [],
   "source": [
    "src = ScriptRunConfig(source_directory=source_directory,\n",
    "                      script=script,\n",
    "                      arguments =[\n",
    "                                  '--model_name', model_name,\n",
    "                                  '--input', input_data, \n",
    "                                 ],\n",
    "                      compute_target=aml_compute,\n",
    "                      environment=myenv,\n",
    "                      docker_runtime_config=docker_config)"
   ]
  },
  {
   "cell_type": "code",
   "execution_count": null,
   "id": "8227c2fa",
   "metadata": {},
   "outputs": [],
   "source": [
    "experiment = Experiment(workspace = workspace, name = experiment_name)\n",
    "\n",
    "run = experiment.submit(config=src)\n",
    "run"
   ]
  },
  {
   "cell_type": "code",
   "execution_count": null,
   "id": "f40397f3",
   "metadata": {},
   "outputs": [],
   "source": [
    "run.wait_for_completion(show_output=True, wait_post_processing=True)"
   ]
  },
  {
   "cell_type": "code",
   "execution_count": null,
   "id": "0fb6a96a",
   "metadata": {},
   "outputs": [],
   "source": [
    "os.makedirs('./models', exist_ok=True)\n",
    "run.download_file('outputs/models/' + 'arima_model.pkl', output_file_path='models')\n",
    "run.download_file('outputs/metric.json', output_file_path='scripts')"
   ]
  },
  {
   "cell_type": "code",
   "execution_count": null,
   "id": "b42e0e5e",
   "metadata": {},
   "outputs": [],
   "source": [
    "run.get_file_names()"
   ]
  },
  {
   "cell_type": "code",
   "execution_count": null,
   "id": "88a344cf",
   "metadata": {},
   "outputs": [],
   "source": [
    "#run.register_model('arima-model-v3', model_path='outputs/arima_model.pkl', tags=run.get_metrics(), description='arima-model-v2')"
   ]
  }
 ],
 "metadata": {
  "kernelspec": {
   "display_name": "Python 3.8 - AzureML",
   "language": "python",
   "name": "python38-azureml"
  },
  "language_info": {
   "codemirror_mode": {
    "name": "ipython",
    "version": 3
   },
   "file_extension": ".py",
   "mimetype": "text/x-python",
   "name": "python",
   "nbconvert_exporter": "python",
   "pygments_lexer": "ipython3",
   "version": "3.8.5"
  }
 },
 "nbformat": 4,
 "nbformat_minor": 5
}
